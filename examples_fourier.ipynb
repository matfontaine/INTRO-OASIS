{
 "cells": [
  {
   "cell_type": "code",
   "execution_count": 1,
   "metadata": {},
   "outputs": [],
   "source": [
    "import numpy as np \n",
    "import matplotlib.pyplot as plt \n"
   ]
  },
  {
   "cell_type": "code",
   "execution_count": 11,
   "metadata": {},
   "outputs": [
    {
     "name": "stdout",
     "output_type": "stream",
     "text": [
      "La taille des FFT est de (200, 3)\n"
     ]
    }
   ],
   "source": [
    "n = np.arange(-100, 100)\n",
    "a = np.array([0.1, 0.5, 1.0])\n",
    "nu = np.array([0.0, 0.05, 0.1])\n",
    "u = a[None,:] * np.exp(1j*2*np.pi*nu[None,:] * n[:, None])\n",
    "print(\"La taille des signaux est de {}\".format(u.shape))\n",
    "u_fft = np.fft.fft(u, axis=0)\n",
    "print(\"La taille des FFT est de {}\".format(u_fft.shape))\n"
   ]
  }
 ],
 "metadata": {
  "kernelspec": {
   "display_name": "base",
   "language": "python",
   "name": "base"
  },
  "language_info": {
   "codemirror_mode": {
    "name": "ipython",
    "version": 3
   },
   "file_extension": ".py",
   "mimetype": "text/x-python",
   "name": "python",
   "nbconvert_exporter": "python",
   "pygments_lexer": "ipython3",
   "version": "3.9.7"
  }
 },
 "nbformat": 4,
 "nbformat_minor": 2
}
